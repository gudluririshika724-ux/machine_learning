{
 "cells": [
  {
   "cell_type": "code",
   "execution_count": 1,
   "id": "6854ab3a",
   "metadata": {},
   "outputs": [
    {
     "name": "stdout",
     "output_type": "stream",
     "text": [
      "   MedInc  HouseAge  AveRooms  AveBedrms  Population  AveOccup  Latitude  \\\n",
      "0  8.3252      41.0  6.984127   1.023810       322.0  2.555556     37.88   \n",
      "1  8.3014      21.0  6.238137   0.971880      2401.0  2.109842     37.86   \n",
      "2  7.2574      52.0  8.288136   1.073446       496.0  2.802260     37.85   \n",
      "3  5.6431      52.0  5.817352   1.073059       558.0  2.547945     37.85   \n",
      "4  3.8462      52.0  6.281853   1.081081       565.0  2.181467     37.85   \n",
      "\n",
      "   Longitude  target  \n",
      "0    -122.23   4.526  \n",
      "1    -122.22   3.585  \n",
      "2    -122.24   3.521  \n",
      "3    -122.25   3.413  \n",
      "4    -122.25   3.422  \n",
      "Index(['MedInc', 'HouseAge', 'AveRooms', 'AveBedrms', 'Population', 'AveOccup',\n",
      "       'Latitude', 'Longitude', 'target'],\n",
      "      dtype='object')\n"
     ]
    }
   ],
   "source": [
    "from sklearn.datasets import fetch_california_housing\n",
    "import pandas as pd\n",
    "\n",
    "data = fetch_california_housing()\n",
    "df = pd.DataFrame(data.data, columns=data.feature_names)\n",
    "df['target'] = data.target\n",
    "\n",
    "print(df.head())\n",
    "print(df.columns)\n"
   ]
  },
  {
   "cell_type": "code",
   "execution_count": 2,
   "id": "c56e16c3",
   "metadata": {},
   "outputs": [],
   "source": [
    "from sklearn.model_selection import train_test_split\n",
    "from sklearn.linear_model import LinearRegression\n",
    "from sklearn.metrics import mean_squared_error, r2_score\n"
   ]
  },
  {
   "cell_type": "code",
   "execution_count": 3,
   "id": "45b32fa4",
   "metadata": {},
   "outputs": [],
   "source": [
    "X = df.drop('target', axis=1)  # all columns except target\n",
    "y = df['target']               # only target column\n"
   ]
  },
  {
   "cell_type": "code",
   "execution_count": 8,
   "id": "5e6eb1f7",
   "metadata": {},
   "outputs": [],
   "source": [
    "X_train, X_test, y_train, y_test = train_test_split(\n",
    "    X, y, test_size=0.4, random_state=42\n",
    ")\n"
   ]
  },
  {
   "cell_type": "code",
   "execution_count": null,
   "id": "e97ba53f",
   "metadata": {},
   "outputs": [
    {
     "name": "stdout",
     "output_type": "stream",
     "text": [
      "Intercept: -37.0957939359066\n",
      "Coefficients: [ 4.49244604e-01  9.50481954e-03 -1.28102920e-01  8.20334578e-01\n",
      " -1.29461684e-06 -3.21412657e-03 -4.18425852e-01 -4.33787875e-01]\n",
      "MedInc : 0.4492446035012598\n",
      "HouseAge : 0.009504819540916566\n",
      "AveRooms : -0.12810292031600842\n",
      "AveBedrms : 0.8203345777220473\n",
      "Population : -1.2946168386241372e-06\n",
      "AveOccup : -0.0032141265676856262\n",
      "Latitude : -0.41842585205860156\n",
      "Longitude : -0.4337878754343774\n",
      "y = -37.0957939359066 + (0.4492446035012598)*MedInc + (0.009504819540916566)*HouseAge + (-0.12810292031600842)*AveRooms + (0.8203345777220473)*AveBedrms + (-1.2946168386241372e-06)*Population + (-0.0032141265676856262)*AveOccup + (-0.41842585205860156)*Latitude + (-0.4337878754343774)*Longitude\n",
      "Mean Squared Error: 0.5435945247974563\n",
      "R2 Score: 0.5939400468776985\n"
     ]
    }
   ],
   "source": [
    "model = LinearRegression()\n",
    "model.fit(X_train, y_train)\n",
    "\n",
    "print(\"Intercept:\", model.intercept_) # intercept\n",
    "print(\"Coefficients:\", model.coef_)  # coefficients\n",
    "\n",
    "for feature, coef in zip(X.columns, model.coef_):\n",
    "    print(f\"{feature} : {coef}\")\n",
    "\n",
    "\n",
    "equation = \"y = \" + str(model.intercept_)\n",
    "for feature, coef in zip(X.columns, model.coef_):\n",
    "    equation += f\" + ({coef})*{feature}\"\n",
    "print(equation)\n",
    "\n",
    "\n",
    "\n",
    "y_pred = model.predict(X_test)\n",
    "mse = mean_squared_error(y_test, y_pred)\n",
    "r2 = r2_score(y_test, y_pred)\n",
    "\n",
    "\n",
    "\n",
    "print(\"Mean Squared Error:\", mse)\n",
    "print(\"R2 Score:\", r2)\n",
    "\n",
    "\n",
    "\n",
    "\n"
   ]
  },
  {
   "cell_type": "code",
   "execution_count": 19,
   "id": "8add19a3",
   "metadata": {},
   "outputs": [
    {
     "name": "stdout",
     "output_type": "stream",
     "text": [
      "Mean Squared Error: 0.5550405537343013\n",
      "R2 Score: 0.5764371559180014\n",
      "\n",
      "Ridge Regression Equation:\n",
      "y = -36.9838 + (0.4471)*MedInc + (0.0097)*HouseAge + (-0.1203)*AveRooms + (0.7662)*AveBedrms + (-0.0000)*Population + (-0.0035)*AveOccup + (-0.4197)*Latitude + (-0.4334)*Longitude\n"
     ]
    }
   ],
   "source": [
    "from sklearn.linear_model import Ridge\n",
    "# ✅ Split into training and testing sets\n",
    "X_train, X_test, y_train, y_test = train_test_split(\n",
    "    X, y, test_size=0.2, random_state=42\n",
    ")\n",
    "\n",
    "# ✅ Create and train Ridge Regression model\n",
    "ridge_model = Ridge(alpha=10.0)  # alpha is the regularization strength\n",
    "ridge_model.fit(X_train, y_train)\n",
    "\n",
    "# ✅ Make predictions\n",
    "y_pred = ridge_model.predict(X_test)\n",
    "\n",
    "# ✅ Evaluate the model\n",
    "mse = mean_squared_error(y_test, y_pred)\n",
    "r2 = r2_score(y_test, y_pred)\n",
    "print(\"Mean Squared Error:\", mse)\n",
    "print(\"R2 Score:\", r2)\n",
    "\n",
    "# ✅ Print regression equation\n",
    "equation = f\"y = {ridge_model.intercept_:.4f}\"\n",
    "for feature, coef in zip(X.columns, ridge_model.coef_):\n",
    "    equation += f\" + ({coef:.4f})*{feature}\"\n",
    "print(\"\\nRidge Regression Equation:\")\n",
    "print(equation)"
   ]
  },
  {
   "cell_type": "code",
   "execution_count": 20,
   "id": "be60457c",
   "metadata": {},
   "outputs": [
    {
     "name": "stdout",
     "output_type": "stream",
     "text": [
      "Mean Squared Error: 0.5555752649052168\n",
      "R2 Score: 0.5760291068434038\n",
      "\n",
      "Lasso Regression Equation:\n",
      "y = -27.5008 + (0.3843)*MedInc + (0.0115)*HouseAge + (0.0021)*AveRooms + (0.0000)*AveBedrms + (0.0000)*Population + (-0.0032)*AveOccup + (-0.3310)*Latitude + (-0.3307)*Longitude\n"
     ]
    }
   ],
   "source": [
    "from sklearn.linear_model import Lasso\n",
    "# Create and train Lasso Regression model\n",
    "lasso_model = Lasso(alpha=0.034222561573497685)  # alpha = regularization strength\n",
    "lasso_model.fit(X_train, y_train)\n",
    "\n",
    "# Make predictions\n",
    "y_pred = lasso_model.predict(X_test)\n",
    "\n",
    "# Evaluate the model\n",
    "mse = mean_squared_error(y_test, y_pred)\n",
    "\n",
    "r2 = r2_score(y_test, y_pred)\n",
    "\n",
    "print(\"Mean Squared Error:\", mse)\n",
    "\n",
    "print(\"R2 Score:\", r2)\n",
    "\n",
    "# Print regression equation\n",
    "equation = f\"y = {lasso_model.intercept_:.4f}\"\n",
    "for feature, coef in zip(X.columns, lasso_model.coef_):\n",
    "    equation += f\" + ({coef:.4f})*{feature}\"\n",
    "print(\"\\nLasso Regression Equation:\")\n",
    "print(equation)"
   ]
  },
  {
   "cell_type": "code",
   "execution_count": null,
   "id": "23e42133",
   "metadata": {},
   "outputs": [
    {
     "name": "stderr",
     "output_type": "stream",
     "text": [
      "c:\\Anacondaa\\Lib\\site-packages\\sklearn\\linear_model\\_coordinate_descent.py:1641: FutureWarning: 'alphas=None' is deprecated and will be removed in 1.9, at which point the default value will be set to 100. Set 'alphas=100' to silence this warning.\n",
      "  warnings.warn(\n"
     ]
    },
    {
     "name": "stdout",
     "output_type": "stream",
     "text": [
      "Best alpha for Ridge: 10.0\n",
      "Best alpha found: 0.034222561573497685\n"
     ]
    }
   ],
   "source": [
    "# Lasso with cross-validation to find best alpha\n",
    "from sklearn.linear_model import LassoCV\n",
    "from sklearn.linear_model import RidgeCV\n",
    "lasso_cv = LassoCV(alphas=None, cv=5, max_iter=10000, random_state=42)\n",
    "lasso_cv.fit(X_train, y_train)\n",
    "\n",
    "# Ridge with cross-validation\n",
    "ridge_alphas = [0.1, 1.0, 10.0, 50.0, 100.0]  # specify alpha values\n",
    "ridge_cv = RidgeCV(alphas=ridge_alphas, cv=5)\n",
    "ridge_cv.fit(X_train, y_train)\n",
    "print(\"Best alpha for Ridge:\", ridge_cv.alpha_)\n",
    "\n",
    "print(\"Best alpha found for LASSO :\", lasso_cv.alpha_)"
   ]
  }
 ],
 "metadata": {
  "kernelspec": {
   "display_name": "Python (base - Anaconda)",
   "language": "python",
   "name": "base"
  },
  "language_info": {
   "codemirror_mode": {
    "name": "ipython",
    "version": 3
   },
   "file_extension": ".py",
   "mimetype": "text/x-python",
   "name": "python",
   "nbconvert_exporter": "python",
   "pygments_lexer": "ipython3",
   "version": "3.13.5"
  }
 },
 "nbformat": 4,
 "nbformat_minor": 5
}
